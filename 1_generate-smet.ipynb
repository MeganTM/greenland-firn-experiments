{
 "cells": [
  {
   "cell_type": "markdown",
   "metadata": {},
   "source": [
    "# Generate .smet files for all GrIS locations\n",
    "\n",
    "#### Created by Megan Thompson-Munson (2023)\n",
    "\n",
    "\n",
    "**Input:** MERRA-2 .smet files (`/pl/active/icesheetsclimate/IDS_Greenland2/smet/*.smet`)\n",
    "\n",
    "**Output:** synthetic .smet files (`/scratch/alpine/metm9666/project-2_smet-generated-4/*.smet`)\n",
    "\n",
    "After running this script, run SNOWPACK by executing scripts in the `Spinup` folder."
   ]
  },
  {
   "cell_type": "code",
   "execution_count": 1,
   "metadata": {},
   "outputs": [],
   "source": [
    "import numpy as np\n",
    "import pandas as pd\n",
    "import datetime\n",
    "import glob\n",
    "from scipy.interpolate import griddata"
   ]
  },
  {
   "cell_type": "code",
   "execution_count": 2,
   "metadata": {},
   "outputs": [],
   "source": [
    "files = glob.glob('/pl/active/icesheetsclimate/IDS_Greenland2/smet/*.smet')"
   ]
  },
  {
   "cell_type": "code",
   "execution_count": 3,
   "metadata": {},
   "outputs": [],
   "source": [
    "def read_smet(file):\n",
    "  \n",
    "    # Get coordinates\n",
    "    lat = float(file[-19:-13])\n",
    "    lon = float(file[-12:-5])\n",
    "\n",
    "    # Column names\n",
    "    names = ['timestamp','TA','QI','U','V','ISWR','ILWR','PSUM','PSUM_PH']\n",
    "\n",
    "    # Read data, skip header rows, and only grab one year\n",
    "    df = pd.read_table(file,skiprows=92776,header=None,delim_whitespace=True,names=names,nrows=8760) # Aug 1980-Jul 1991 \n",
    "\n",
    "    # NEED TO CHANGE BACK TO 1991\n",
    "    \n",
    "    # Convert time to timestamp and set as index\n",
    "    df['time'] = pd.to_datetime(df.timestamp)\n",
    "    df = df.set_index('time')\n",
    "    \n",
    "    # For choosing periods that don't start w/Jan 1, flip the data around to just have one year\n",
    "    new_idx = [i.replace(year=1990) for i in df.index]\n",
    "    df = df.reset_index(drop=True)\n",
    "    df = df.set_index(pd.Index(new_idx)).sort_index()\n",
    "    df['timestamp'] = [str(t)[0:10]+'T'+str(t)[11:] for t in df.index]\n",
    "    \n",
    "    return df"
   ]
  },
  {
   "cell_type": "code",
   "execution_count": 4,
   "metadata": {},
   "outputs": [],
   "source": [
    "def generate_base(df):\n",
    "    \n",
    "    # Create artificial leap day from Feb 28\n",
    "    leapday = df[df.index.date==pd.to_datetime('1990-02-28')].reset_index(drop=True)\n",
    "\n",
    "    # Create dataframe without index for the leap year\n",
    "    df_leapyear = df.reset_index(drop=True)\n",
    "\n",
    "    # Create and set new indices for combining on\n",
    "    idx = df_leapyear[df_leapyear.timestamp=='1990-02-28T23:30:00'].index.values[0]\n",
    "    new_idx0 = np.arange(0,idx)\n",
    "    new_idx1 = np.arange(idx+24,8784)\n",
    "    new_idx = np.concatenate([new_idx0,new_idx1])\n",
    "    df_leapyear = df.set_index(new_idx)\n",
    "\n",
    "    # Set index for leapday\n",
    "    df_leapday = leapday.set_index(np.arange(idx,idx+24))\n",
    "\n",
    "    # Combine and sort by index\n",
    "    df_concat = pd.concat([df_leapyear,df_leapday]).sort_index()\n",
    "    \n",
    "    # Create a 4-year dataset with the pattern (leap, no leap, no leap, no leap)\n",
    "    arr_4yr = np.concatenate([df_concat.values,df.values,df.values,df.values])\n",
    "    \n",
    "    # Repeat the 4-year set 25x to generate 100 years\n",
    "    arr_100yr = np.tile(arr_4yr,(25,1))\n",
    "    \n",
    "    # Create a dataframe 100 years in length\n",
    "    ts100a = pd.date_range(start='1980-01-01 00:30:00',end='2079-12-31 23:30:00',freq='1H')\n",
    "    df100a = pd.DataFrame(index=ts100a,columns=df.columns,data=arr_100yr)\n",
    "    df100a['timestamp'] = [str(t)[0:10]+'T'+str(t)[11:] for t in df100a.index]\n",
    "    \n",
    "    return df100a"
   ]
  },
  {
   "cell_type": "code",
   "execution_count": 5,
   "metadata": {},
   "outputs": [],
   "source": [
    "# Extend time series to 100 years in length and apply a perturbation\n",
    "def perturb(df100a,variable):\n",
    "    \n",
    "    df100b_INC = df100a.copy()\n",
    "    df100b_DEC = df100a.copy()\n",
    "    \n",
    "    # Apply perturbation\n",
    "    df100b_INC[variable] = df100b_INC[variable]+1\n",
    "    df100b_DEC[variable] = df100b_DEC[variable]-1\n",
    "        \n",
    "    # Create 100-year index for second half of 100 years\n",
    "    ts100b = pd.date_range(start='2080-01-01 00:30:00',end='2180-01-01 23:30:00',freq='1H')\n",
    "    \n",
    "    # Add it to both dataframes\n",
    "    df100b_INC = df100b_INC.set_index(ts100b,drop=True)\n",
    "    df100b_INC['timestamp'] = [str(t)[0:10]+'T'+str(t)[11:] for t in df100b_INC.index]\n",
    "    df100b_DEC = df100b_DEC.set_index(ts100b,drop=True)\n",
    "    df100b_DEC['timestamp'] = [str(t)[0:10]+'T'+str(t)[11:] for t in df100b_DEC.index]\n",
    "    \n",
    "    return pd.concat([df100a,df100b_INC]), pd.concat([df100a,df100b_DEC])"
   ]
  },
  {
   "cell_type": "code",
   "execution_count": 6,
   "metadata": {},
   "outputs": [],
   "source": [
    "# Function to write variables to new .smet file\n",
    "def write_smet(file,station,df,experiment):\n",
    "    \n",
    "    # Open file to write to\n",
    "    f_new = open('/scratch/alpine/metm9666/project-2_smet/{}_{}.smet'.format(file[-19:-5],experiment),'w')\n",
    "\n",
    "    # Open original file and write header to new one; change station name and ID\n",
    "    f_original = open(file,'r')\n",
    "    for i in range(16):\n",
    "        header = f_original.readline()\n",
    "        if (i < 2) | (i > 3):\n",
    "            f_new.write(header)\n",
    "        if i==2:\n",
    "            f_new.write('station_id       = {}_{}\\n'.format(station,experiment))\n",
    "        if i==3:\n",
    "            f_new.write('station_name     = {}\\n'.format(station))\n",
    "    f_original.close()\n",
    "    f_new.close()\n",
    "    \n",
    "#     with open('/scratch/alpine/metm9666/project-2_smet-generated-3/{}_{}.smet'.format(file[-19:-5],experiment),'ab') as f:\n",
    "    with open('/scratch/alpine/metm9666/project-2_smet/{}_{}.smet'.format(file[-19:-5],experiment),'ab') as f:\n",
    "        np.savetxt(f,df.values,fmt='%s %.2f %.10f %.3f %.3f %.1f %.20f %.3f %.1f')"
   ]
  },
  {
   "cell_type": "code",
   "execution_count": 7,
   "metadata": {},
   "outputs": [],
   "source": [
    "def generate_synth_file(fname,station,df,variable='',write='no'):\n",
    "    \n",
    "    # Create synthetic 100-year time series and extend\n",
    "    df_synth_extend = generate_base(df)\n",
    "    \n",
    "    # Apply perturbations\n",
    "    df_synth_perturb_INC,df_synth_perturb_DEC = perturb(df_synth_extend,variable)\n",
    "    \n",
    "    if write == 'yes':\n",
    "        write_smet(fname,station,df_synth_perturb_INC,'{}_{}'.format(variable,'INC'))\n",
    "        write_smet(fname,station,df_synth_perturb_DEC,'{}_{}'.format(variable,'DEC'))\n",
    "\n",
    "    return df_synth_perturb_INC,df_synth_perturb_DEC"
   ]
  },
  {
   "cell_type": "code",
   "execution_count": 10,
   "metadata": {},
   "outputs": [],
   "source": [
    "for i in range(1427,len(files)):\n",
    "    generate_synth_file(fname=files[i],station=i,df=read_smet(files[i]),variable='TA',write='yes')"
   ]
  },
  {
   "cell_type": "code",
   "execution_count": 20,
   "metadata": {},
   "outputs": [
    {
     "data": {
      "text/plain": [
       "1985.0"
      ]
     },
     "execution_count": 20,
     "metadata": {},
     "output_type": "execute_result"
    }
   ],
   "source": [
    "nfiles = glob.glob('/scratch/alpine/metm9666/project-2_smet/*.smet')\n",
    "len(nfiles)/2"
   ]
  },
  {
   "cell_type": "code",
   "execution_count": 2,
   "metadata": {},
   "outputs": [
    {
     "data": {
      "text/plain": [
       "1288.0"
      ]
     },
     "execution_count": 2,
     "metadata": {},
     "output_type": "execute_result"
    }
   ],
   "source": [
    "nfiles = glob.glob('/projects/metm9666/project-2/Spinup/cfgfiles/*.ini')\n",
    "len(nfiles)/2"
   ]
  },
  {
   "cell_type": "code",
   "execution_count": null,
   "metadata": {},
   "outputs": [],
   "source": []
  }
 ],
 "metadata": {
  "kernelspec": {
   "display_name": "snowpack",
   "language": "python",
   "name": "snowpack"
  },
  "language_info": {
   "codemirror_mode": {
    "name": "ipython",
    "version": 3
   },
   "file_extension": ".py",
   "mimetype": "text/x-python",
   "name": "python",
   "nbconvert_exporter": "python",
   "pygments_lexer": "ipython3",
   "version": "3.6.8"
  }
 },
 "nbformat": 4,
 "nbformat_minor": 4
}

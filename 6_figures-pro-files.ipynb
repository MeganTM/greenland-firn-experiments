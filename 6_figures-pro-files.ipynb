{
 "cells": [
  {
   "cell_type": "markdown",
   "metadata": {},
   "source": [
    "# Create figures for manuscript\n",
    "\n",
    "#### Created by Megan Thompson-Munson (2023)"
   ]
  },
  {
   "cell_type": "code",
   "execution_count": 1,
   "metadata": {},
   "outputs": [],
   "source": [
    "# Import libraries\n",
    "import numpy as np\n",
    "import pandas as pd\n",
    "import xarray as xr\n",
    "import datetime\n",
    "import pickle\n",
    "import glob\n",
    "import matplotlib.pyplot as plt\n",
    "import matplotlib as mpl\n",
    "from scipy.interpolate import griddata\n",
    "import matplotlib.font_manager as font_manager\n",
    "from matplotlib import mathtext\n",
    "from matplotlib import gridspec\n",
    "import matplotlib.colors as mplc\n",
    "from mpl_toolkits.axes_grid1.inset_locator import inset_axes\n",
    "from cycler import cycler\n",
    "from cmcrameri import cm\n",
    "import cartopy\n",
    "import cartopy.crs as ccrs\n",
    "import cartopy.feature as cfeature\n",
    "import matplotlib.ticker as mtick\n",
    "import warnings\n",
    "warnings.simplefilter('ignore', UserWarning)\n",
    "warnings.filterwarnings('ignore')\n",
    "\n",
    "# Fonts\n",
    "font_files = font_manager.findSystemFonts(fontpaths=['/projects/metm9666/fonts'])\n",
    "font_list = font_manager.createFontList(font_files)\n",
    "font_manager.fontManager.ttflist.extend(font_list)\n",
    "boldtitle = font_manager.FontProperties(fname='/projects/metm9666/fonts/Arial Bold.ttf')\n",
    "italicstyle = font_manager.FontProperties(fname='/projects/metm9666/fonts/Arial Italic.ttf')\n",
    "class ArialFontConstants(mathtext.FontConstantsBase):\n",
    "    sup1 = 0.4\n",
    "mathtext._font_constant_mapping['Arial'] = ArialFontConstants\n",
    "mpl.rcParams['font.family'] = 'Arial'\n",
    "mpl.rcParams['font.size'] = 10\n",
    "mpl.rcParams['figure.titlesize'] = 12\n",
    "mpl.rcParams['figure.titleweight'] = 'bold'\n",
    "mpl.rcParams['axes.labelsize'] = 11\n",
    "mpl.rcParams['axes.labelweight'] = 'bold'\n",
    "mpl.rcParams['axes.linewidth'] = 1\n",
    "mpl.rcParams['xtick.direction'] = 'in'\n",
    "mpl.rcParams['ytick.direction'] = 'in'\n",
    "mpl.rcParams['xtick.major.size'] = 5\n",
    "mpl.rcParams['ytick.major.size'] = 5\n",
    "mpl.rcParams['xtick.major.width'] = 1\n",
    "mpl.rcParams['ytick.major.width'] = 1\n",
    "mpl.rcParams['mathtext.fontset'] = 'cm'\n",
    "mpl.rcParams['mathtext.default'] = 'regular'\n",
    "from IPython.display import set_matplotlib_formats\n",
    "set_matplotlib_formats('svg')\n",
    "\n",
    "# Create colors for warming vs cooling\n",
    "cmap = mpl.cm.get_cmap('RdBu')\n",
    "color_cool = cmap(0.75)\n",
    "color_warm = cmap(0.15)"
   ]
  },
  {
   "cell_type": "code",
   "execution_count": 2,
   "metadata": {},
   "outputs": [],
   "source": [
    "# Set path\n",
    "path = '/scratch/alpine/metm9666/project-2_processed-output-4/pro-files_processed/'"
   ]
  },
  {
   "cell_type": "markdown",
   "metadata": {},
   "source": [
    "## Plot FAC timeseries"
   ]
  },
  {
   "cell_type": "code",
   "execution_count": 3,
   "metadata": {},
   "outputs": [],
   "source": [
    "def plot_fac(station,x0,y0,x1,y1,x2,y2,save='no'):\n",
    "    \n",
    "    # Set up figure and axes for plotting\n",
    "    fig = plt.figure(figsize=(4,2))\n",
    "    fig.patch.set_facecolor('w')\n",
    "    ax = plt.subplot()\n",
    "    ax.grid(c='gainsboro',ls=':',lw=1,zorder=0)\n",
    "    ax.set_ylabel('FAC (m)')\n",
    "    ax.set_xlabel('Time (yr)')\n",
    "\n",
    "    # Plot initial conditions, warming, and cooling\n",
    "    ax.plot(x0,y0,c='dimgray',lw=0.75)\n",
    "    ax.plot(x1,y1,c=color_cool,lw=0.75)\n",
    "    ax.plot(x2,y2,c=color_warm,lw=0.75)\n",
    "    \n",
    "    if save=='yes':\n",
    "        plt.savefig('/scratch/alpine/metm9666/project-2_processed-output-4/figures/{}.png'.format(station),\n",
    "                    dpi=100,bbox_inches='tight')\n",
    "    plt.close(fig)"
   ]
  },
  {
   "cell_type": "code",
   "execution_count": 9,
   "metadata": {},
   "outputs": [
    {
     "data": {
      "text/plain": [
       "23"
      ]
     },
     "execution_count": 9,
     "metadata": {},
     "output_type": "execute_result"
    }
   ],
   "source": [
    "# FAC time series data from .pro files\n",
    "pickle_files = sorted(glob.glob(path+'*data.p'))\n",
    "len(pickle_files)"
   ]
  },
  {
   "cell_type": "code",
   "execution_count": 10,
   "metadata": {},
   "outputs": [],
   "source": [
    "for i in range(len(pickle_files)):\n",
    "    data = pickle.load(open(pickle_files[i],'rb'))\n",
    "    x0,y0 = data['initial']['years'],data['initial']['fac']\n",
    "    x1,y1 = data['dec']['years'],data['dec']['fac']\n",
    "    x2,y2 = data['inc']['years'],data['inc']['fac']\n",
    "    plot_fac(data['station'],x0,y0,x1,y1,x2,y2,save='yes')"
   ]
  },
  {
   "cell_type": "code",
   "execution_count": null,
   "metadata": {},
   "outputs": [],
   "source": []
  }
 ],
 "metadata": {
  "kernelspec": {
   "display_name": "snowpack",
   "language": "python",
   "name": "snowpack"
  },
  "language_info": {
   "codemirror_mode": {
    "name": "ipython",
    "version": 3
   },
   "file_extension": ".py",
   "mimetype": "text/x-python",
   "name": "python",
   "nbconvert_exporter": "python",
   "pygments_lexer": "ipython3",
   "version": "3.6.8"
  }
 },
 "nbformat": 4,
 "nbformat_minor": 4
}

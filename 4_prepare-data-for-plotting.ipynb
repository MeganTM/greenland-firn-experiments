{
 "cells": [
  {
   "cell_type": "markdown",
   "metadata": {},
   "source": [
    "# Combine processed data and prepare for plotting\n",
    "\n",
    "#### Created by Megan Thompson-Munson (2023)"
   ]
  },
  {
   "cell_type": "code",
   "execution_count": 1,
   "metadata": {},
   "outputs": [],
   "source": [
    "# Import libraries\n",
    "import numpy as np\n",
    "import pandas as pd\n",
    "import xarray as xr\n",
    "import datetime\n",
    "import glob\n",
    "from scipy import stats\n",
    "from scipy.signal import savgol_filter\n",
    "from scipy.interpolate import griddata\n",
    "import pickle\n",
    "import os.path\n",
    "import warnings\n",
    "warnings.simplefilter('ignore', UserWarning)\n",
    "warnings.filterwarnings('ignore')"
   ]
  },
  {
   "cell_type": "code",
   "execution_count": 5,
   "metadata": {},
   "outputs": [],
   "source": [
    "# Dataset path\n",
    "# path_raw = '/scratch/alpine/metm9666/project-2_output-4/'\n",
    "# path_processed = '/scratch/alpine/metm9666/project-2_processed-output-4/'\n",
    "path_raw = '/pl/active/metm-greenland/project-2_output/'\n",
    "path_processed = '/pl/active/metm-greenland/project-2_output-processed/'"
   ]
  },
  {
   "cell_type": "markdown",
   "metadata": {},
   "source": [
    "---------------"
   ]
  },
  {
   "cell_type": "markdown",
   "metadata": {},
   "source": [
    "## 1. Generate meta data\n",
    "\n",
    "**Input:** \n",
    "- `/scratch/alpine/metm9666/project-2_output-4/*.pro`\n",
    "\n",
    "**Output:** \n",
    "- `/scratch/alpine/metm9666/project-2_processed-output-4/metadata.csv`"
   ]
  },
  {
   "cell_type": "code",
   "execution_count": 6,
   "metadata": {},
   "outputs": [],
   "source": [
    "# If file already exists, then open\n",
    "if os.path.isfile(path_processed+'metadata.csv')==True:\n",
    "    \n",
    "    df_meta = pd.read_csv(path_processed+'metadata.csv')\n",
    "\n",
    "# If not, generate\n",
    "else:\n",
    "    # Get list of file names and lat/lons\n",
    "    all_locs = sorted(glob.glob(path_raw+'*DEC_*.pro'))\n",
    "\n",
    "    # Create empty lists for filling\n",
    "    idx = []\n",
    "    lats = []\n",
    "    lons = []\n",
    "\n",
    "    # Loop through all files\n",
    "    for i in range(len(all_locs)):\n",
    "\n",
    "        # Get the index from the file name\n",
    "        file_name = all_locs[i]\n",
    "        idx.append(int(file_name[44:-22]))\n",
    "\n",
    "        # Read the first few lines of the header and append to lists\n",
    "        with open(file_name) as f:\n",
    "            head = [next(f) for _ in range(0,4)]\n",
    "            lats.append(float(head[2][10:-2]))\n",
    "            lons.append(float(head[3][11:-2]))\n",
    "        f.close()\n",
    "\n",
    "    # Create metadata dataframe from values extracted\n",
    "    df_meta = pd.DataFrame(data={'idx':idx,'lat':lats,'lon':lons})\n",
    "    \n",
    "    # Export\n",
    "    df_meta.to_csv(path_processed+'metadata.csv',index=False)"
   ]
  },
  {
   "cell_type": "markdown",
   "metadata": {},
   "source": [
    "---------------"
   ]
  },
  {
   "cell_type": "markdown",
   "metadata": {},
   "source": [
    "## 2. Create smoothed FAC and volume .nc\n",
    "\n",
    "**Input:** \n",
    "- `/scratch/alpine/metm9666/project-2_processed-output-4/smet-DEC.nc`\n",
    "- `/scratch/alpine/metm9666/project-2_processed-output-4/smet-INC.nc`\n",
    "- `/scratch/alpine/metm9666/project-2_processed-output-4/FAC-DEC.nc`\n",
    "- `/scratch/alpine/metm9666/project-2_processed-output-4/FAC-INC.nc`\n",
    "\n",
    "**Output:** \n",
    "- `/scratch/alpine/metm9666/project-2_processed-output-4/FAC-DEC-smooth.nc`\n",
    "- `/scratch/alpine/metm9666/project-2_processed-output-4/FAC-INC-smooth.nc`\n",
    "- `/scratch/alpine/metm9666/project-2_processed-output-4/FAC-change_vs_initial-atm.csv`"
   ]
  },
  {
   "cell_type": "markdown",
   "metadata": {},
   "source": [
    "### 2.1 Read in data"
   ]
  },
  {
   "cell_type": "code",
   "execution_count": 7,
   "metadata": {},
   "outputs": [],
   "source": [
    "# Open all datasets\n",
    "fac_dec = xr.open_dataset(path_processed+'FAC-DEC.nc')\n",
    "fac_inc = xr.open_dataset(path_processed+'FAC-INC.nc')\n",
    "ds_dec = xr.open_dataset(path_processed+'smet-DEC.nc')\n",
    "ds_inc = xr.open_dataset(path_processed+'smet-INC.nc')"
   ]
  },
  {
   "cell_type": "markdown",
   "metadata": {},
   "source": [
    "### 2.2 Functions for processing"
   ]
  },
  {
   "cell_type": "code",
   "execution_count": 8,
   "metadata": {},
   "outputs": [],
   "source": [
    "# Create function to smooth FAC\n",
    "def smooth(ds):\n",
    "    \n",
    "    # Loop through each coordinate pair\n",
    "    lats = []\n",
    "    lons = []\n",
    "    smooths = []\n",
    "    dates = []\n",
    "    for lat in range(46):\n",
    "        for lon in range(92):\n",
    "            coord = ds.isel(lat=lat,lon=lon)\n",
    "            if str(coord.fac.values[0]) != 'nan':\n",
    "                \n",
    "                # Smooth with Savitzky-Golay filter\n",
    "                fac_smooth = savgol_filter(coord.fac,501,2).tolist()\n",
    "                \n",
    "                # Add new data to lists\n",
    "                lats.append(coord.lat.values.flatten()[0])\n",
    "                lons.append(coord.lon.values.flatten()[0])\n",
    "                smooths.append(fac_smooth)\n",
    "                dates.append(coord.time.values)\n",
    "   \n",
    "    # Create dataframe from lists\n",
    "    df = pd.DataFrame(data={'lat':lats,'lon':lons,'fac_smooth':smooths})\n",
    "    dfPivot = df.pivot(index='lat',columns='lon',values='fac_smooth')\n",
    "    \n",
    "    # Convert dataframe to list of xarray data arrays\n",
    "    das = []\n",
    "    for i in range(len(dates[0])):\n",
    "        dfTemp = dfPivot.applymap(lambda x: x[i] if type(x) is list else np.nan)\n",
    "        da = xr.DataArray(data=dfTemp.values,\n",
    "                          dims=['lat','lon'],\n",
    "                          coords=[dfTemp.index,dfTemp.columns])\n",
    "        das.append(da)\n",
    "\n",
    "    # Concat the data arrays and add the time dimension\n",
    "    daConcat = xr.concat(das, pd.Index(dates[0],name='time'))\n",
    "    ds = xr.Dataset({'fac_smooth':daConcat})\n",
    "    \n",
    "    return ds"
   ]
  },
  {
   "cell_type": "code",
   "execution_count": 9,
   "metadata": {},
   "outputs": [],
   "source": [
    "# Haversine formula for calculating distance between two points on Earth\n",
    "def haversine(lat1,lon1,lat2,lon2):\n",
    "    phi1 = np.deg2rad(lat1)\n",
    "    phi2 = np.deg2rad(lat2)\n",
    "    theta1 = np.deg2rad(lon1)\n",
    "    theta2 = np.deg2rad(lon2)\n",
    "    del_phi = phi2-phi1\n",
    "    del_theta = theta2-theta1\n",
    "    a = np.sin(del_phi/2)**2+(np.cos(phi1)*np.cos(phi2)*np.sin(del_theta/2)**2)\n",
    "    c = 2*np.arctan2(np.sqrt(a),np.sqrt(1-a))\n",
    "    d = (6371e3)*c # Earth's radius in meters\n",
    "    return d # Meters\n",
    "\n",
    "# FAC volume\n",
    "def calculate_volume(ds):\n",
    "    \n",
    "    # Arrays of lats and lons\n",
    "    lats = np.array(ds.lat)\n",
    "    lons = np.array(ds.lon)\n",
    "\n",
    "    area = np.empty([len(lats),len(lons)])\n",
    "    for x in range(len(lons)):\n",
    "        for y in range(len(lats)):\n",
    "\n",
    "            # Get coordinates of grid cell\n",
    "            x0 = lons[x] - (0.625/2)\n",
    "            x1 = lons[x] + (0.625/2)\n",
    "            y0 = lats[y] - (0.5/2)\n",
    "            y1 = lats[y] + (0.5/2)\n",
    "\n",
    "            # Find distance between points\n",
    "            dx = haversine(y0,x0,y0,x1)\n",
    "            dy = haversine(y0,x0,y1,x0)\n",
    "\n",
    "            # Fill array with area in m2\n",
    "            area[y,x] = (dx*dy)\n",
    "\n",
    "    # Create data area of areas to add to datasets\n",
    "    xrArea = xr.DataArray(data=area,dims=['lat','lon'])\n",
    "    \n",
    "    # Calculate weights based on latitude\n",
    "    weights = np.empty([len(lats),len(lons)])\n",
    "    for i in range(len(ds.lon)):\n",
    "        weights[:,i] = np.cos(np.deg2rad(ds.lat.values))\n",
    "    xrWeights = xr.DataArray(data=weights,dims=['lat','lon'])\n",
    "    \n",
    "    ds['area'] = xrArea # Add areas to dataset\n",
    "    ds['weights'] = xrWeights # Add weights to dataset\n",
    "    ds['facVol'] = (ds['fac']*ds['area']) * 1e-9 # Spatially integrated FAC in km3\n",
    "    \n",
    "    return ds\n",
    "\n",
    "# FAC volume\n",
    "def calculate_area(ds):\n",
    "    \n",
    "    # Arrays of lats and lons\n",
    "    lats = np.array(ds.lat)\n",
    "    lons = np.array(ds.lon)\n",
    "\n",
    "    area = np.empty([len(lats),len(lons)])\n",
    "    for x in range(len(lons)):\n",
    "        for y in range(len(lats)):\n",
    "\n",
    "            # Get coordinates of grid cell\n",
    "            x0 = lons[x] - (0.625/2)\n",
    "            x1 = lons[x] + (0.625/2)\n",
    "            y0 = lats[y] - (0.5/2)\n",
    "            y1 = lats[y] + (0.5/2)\n",
    "\n",
    "            # Find distance between points\n",
    "            dx = haversine(y0,x0,y0,x1)\n",
    "            dy = haversine(y0,x0,y1,x0)\n",
    "\n",
    "            # Fill array with area in m2\n",
    "            area[y,x] = (dx*dy)\n",
    "\n",
    "    # Create data area of areas to add to datasets\n",
    "    xrArea = xr.DataArray(data=area,dims=['lat','lon'])\n",
    "    \n",
    "    # Calculate weights based on latitude\n",
    "    weights = np.empty([len(lats),len(lons)])\n",
    "    for i in range(len(ds.lon)):\n",
    "        weights[:,i] = np.cos(np.deg2rad(ds.lat.values))\n",
    "    xrWeights = xr.DataArray(data=weights,dims=['lat','lon'])\n",
    "    \n",
    "    ds['area'] = xrArea # Add areas to dataset\n",
    "    ds['weights'] = xrWeights # Add weights to dataset\n",
    "    \n",
    "    return ds"
   ]
  },
  {
   "cell_type": "markdown",
   "metadata": {},
   "source": [
    "### 2.3 Apply functions and export data"
   ]
  },
  {
   "cell_type": "markdown",
   "metadata": {},
   "source": [
    "#### 2.3.1 Generate smoothed FAC .nc"
   ]
  },
  {
   "cell_type": "code",
   "execution_count": 10,
   "metadata": {},
   "outputs": [],
   "source": [
    "# If file does not exist, then create\n",
    "if os.path.isfile(path_processed+'FAC-DEC-smooth.nc')==False:\n",
    "\n",
    "    # Apply function to decrease and increase\n",
    "    fac_dec_smooth = smooth(fac_dec)\n",
    "    fac_inc_smooth = smooth(fac_inc)\n",
    "\n",
    "    # Add smoothed xarrays to existing datasets\n",
    "    fac_dec['fac_smooth'] = fac_dec_smooth['fac_smooth']\n",
    "    fac_inc['fac_smooth'] = fac_inc_smooth['fac_smooth']\n",
    "\n",
    "    # Add the area, weights, and volume to the datasets\n",
    "    fac_dec = calculate_volume(fac_dec)\n",
    "    fac_inc = calculate_volume(fac_inc)\n",
    "    \n",
    "    # Export\n",
    "    fac_dec.to_netcdf(path=path_processed+'FAC-DEC-smooth.nc',mode='w',format='NETCDF4')\n",
    "    fac_inc.to_netcdf(path=path_processed+'FAC-INC-smooth.nc',mode='w',format='NETCDF4')"
   ]
  },
  {
   "cell_type": "markdown",
   "metadata": {},
   "source": [
    "---------------"
   ]
  },
  {
   "cell_type": "markdown",
   "metadata": {},
   "source": [
    "## 3. Generate averaged FAC and atmospheric .csv"
   ]
  },
  {
   "cell_type": "code",
   "execution_count": 11,
   "metadata": {},
   "outputs": [],
   "source": [
    "# Open all datasets\n",
    "fac_dec = xr.open_dataset(path_processed+'FAC-DEC.nc')\n",
    "fac_inc = xr.open_dataset(path_processed+'FAC-INC.nc')\n",
    "ds_dec = xr.open_dataset(path_processed+'smet-DEC.nc')\n",
    "ds_inc = xr.open_dataset(path_processed+'smet-INC.nc')\n",
    "temp_dec = xr.open_dataset(path_processed+'firn-temperature-mean-DEC.nc')\n",
    "temp_inc = xr.open_dataset(path_processed+'firn-temperature-mean-INC.nc')"
   ]
  },
  {
   "cell_type": "code",
   "execution_count": 12,
   "metadata": {},
   "outputs": [],
   "source": [
    "# Add area to file with melt and calculate melt volume\n",
    "ds_dec = calculate_area(ds_dec)\n",
    "ds_inc = calculate_area(ds_inc)\n",
    "ds_dec['melt_vol'] = ds_dec['melt']*(ds_dec['area']*1e6)\n",
    "ds_inc['melt_vol'] = ds_inc['melt']*(ds_inc['area']*1e6)"
   ]
  },
  {
   "cell_type": "code",
   "execution_count": 13,
   "metadata": {},
   "outputs": [],
   "source": [
    "# Initial values\n",
    "initial_fac = fac_dec['fac'].sel(time=slice('1980','2079')).mean('time')\n",
    "initial_summer_temp = ds_dec.sel(time=slice('1980','2079')).groupby('time.season').mean('time').sel(season='JJA').drop_vars('season')\n",
    "initial_summer_temp = initial_summer_temp.rename({'temperature':'summer_temp'})['summer_temp']\n",
    "initial_melt = ds_dec['melt'].sel(time=slice('1980','2079')).groupby('time.year').sum('time').mean('year')\n",
    "initial_melt_vol = ds_dec['melt_vol'].sel(time=slice('1980','2079')).groupby('time.year').sum('time').mean('year')\n",
    "initial_snow = ds_dec['snow'].sel(time=slice('1980','2079')).groupby('time.year').sum('time').mean('year')\n",
    "initial_rain = ds_dec['rain'].sel(time=slice('1980','2079')).groupby('time.year').sum('time').mean('year')\n",
    "initial_firn_temp = temp_dec.sel(time=slice('1980','2079')).mean('time')\n",
    "initial_firn_temp = initial_firn_temp.rename({'temperature':'firn_temp'})['firn_temp']\n",
    "\n",
    "# Cooling values\n",
    "cool_fac = fac_dec.isel(time=-1).drop_vars('time').rename({'fac':'fac_cool'})['fac_cool']\n",
    "cool_summer_temp = ds_dec.sel(time=slice('2080','2179')).groupby('time.season').mean('time').sel(season='JJA').drop_vars('season')\n",
    "cool_summer_temp = cool_summer_temp.rename({'temperature':'summer_temp_cool'})['summer_temp_cool']\n",
    "cool_melt = ds_dec.sel(time=slice('2080','2179')).groupby('time.year').sum('time').mean('year')\n",
    "cool_melt = cool_melt.rename({'melt':'melt_cool'})['melt_cool']\n",
    "cool_melt_vol = ds_dec.sel(time=slice('2080','2179')).groupby('time.year').sum('time').mean('year')\n",
    "cool_melt_vol = cool_melt_vol.rename({'melt_vol':'melt_vol_cool'})['melt_vol_cool']\n",
    "cool_snow = ds_dec.sel(time=slice('2080','2179')).groupby('time.year').sum('time').mean('year')\n",
    "cool_snow = cool_snow.rename({'snow':'snow_cool'})['snow_cool']\n",
    "cool_rain = ds_dec.sel(time=slice('2080','2179')).groupby('time.year').sum('time').mean('year')\n",
    "cool_rain = cool_rain.rename({'rain':'rain_cool'})['rain_cool']\n",
    "cool_firn_temp = temp_dec.sel(time=slice('2080','2179')).mean('time')\n",
    "cool_firn_temp = cool_firn_temp.rename({'temperature':'firn_temp_cool'})['firn_temp_cool']\n",
    "\n",
    "# Warming values\n",
    "warm_fac = fac_inc.isel(time=-1).drop_vars('time').rename({'fac':'fac_warm'})['fac_warm']\n",
    "warm_summer_temp = ds_inc.sel(time=slice('2080','2179')).groupby('time.season').mean('time').sel(season='JJA').drop_vars('season')\n",
    "warm_summer_temp = warm_summer_temp.rename({'temperature':'summer_temp_warm'})['summer_temp_warm']\n",
    "warm_melt = ds_inc.sel(time=slice('2080','2179')).groupby('time.year').sum('time').mean('year')\n",
    "warm_melt = warm_melt.rename({'melt':'melt_warm'})['melt_warm']\n",
    "warm_melt_vol = ds_inc.sel(time=slice('2080','2179')).groupby('time.year').sum('time').mean('year')\n",
    "warm_melt_vol = warm_melt_vol.rename({'melt_vol':'melt_vol_warm'})['melt_vol_warm']\n",
    "warm_snow = ds_inc.sel(time=slice('2080','2179')).groupby('time.year').sum('time').mean('year')\n",
    "warm_snow = warm_snow.rename({'snow':'snow_warm'})['snow_warm']\n",
    "warm_rain = ds_inc.sel(time=slice('2080','2179')).groupby('time.year').sum('time').mean('year')\n",
    "warm_rain = warm_rain.rename({'rain':'rain_warm'})['rain_warm']\n",
    "warm_firn_temp = temp_inc.sel(time=slice('2080','2179')).mean('time')\n",
    "warm_firn_temp = warm_firn_temp.rename({'temperature':'firn_temp_warm'})['firn_temp_warm']\n",
    "\n",
    "# Pull out area so it can be added to dataframe\n",
    "area = ds_dec['area']"
   ]
  },
  {
   "cell_type": "code",
   "execution_count": 14,
   "metadata": {},
   "outputs": [],
   "source": [
    "# Combine all into dataset\n",
    "ds_all = xr.merge([initial_fac,cool_fac,warm_fac,\n",
    "                   initial_summer_temp,cool_summer_temp,warm_summer_temp,\n",
    "                   initial_melt,cool_melt,warm_melt,\n",
    "                   initial_snow,cool_snow,warm_snow,\n",
    "                   initial_rain,cool_rain,warm_rain,\n",
    "                   initial_firn_temp,cool_firn_temp,warm_firn_temp,\n",
    "                   area])\n",
    "\n",
    "# Create dataframe of all data\n",
    "df_response = ds_all.to_dataframe().reset_index()\n",
    "df_response = df_response.dropna().reset_index(drop=True)\n",
    "\n",
    "# Add LTSR to dataframe\n",
    "df_response['ltsr'] = (df_response['rain']+df_response['melt'])/df_response['snow']\n",
    "\n",
    "# Analyze change and add columns to dataframe\n",
    "df_response['cool_change'] = df_response.fac_cool-df_response.fac\n",
    "df_response['warm_change'] = df_response.fac_warm-df_response.fac\n",
    "df_response['cool_perchange'] = (df_response.cool_change/df_response.fac)*100\n",
    "df_response['warm_perchange'] = (df_response.warm_change/df_response.fac)*100\n",
    "df_response['cool_warm_diff'] = abs(df_response.cool_change) - abs(df_response.warm_change)\n",
    "df_response['cool_warm_perdiff'] = abs(df_response.cool_perchange) - abs(df_response.warm_perchange)"
   ]
  },
  {
   "cell_type": "code",
   "execution_count": 15,
   "metadata": {},
   "outputs": [],
   "source": [
    "# Categorize based on type of response\n",
    "df_response['category'] = 0\n",
    "df_response.loc[df_response['cool_warm_perdiff']>1,'category'] = 2\n",
    "df_response.loc[df_response['cool_warm_perdiff']<-1,'category'] = 3\n",
    "df_response.loc[(df_response['fac']<1)|(df_response['fac_warm']<1),'category'] = 1"
   ]
  },
  {
   "cell_type": "code",
   "execution_count": 16,
   "metadata": {},
   "outputs": [],
   "source": [
    "# Categorize based on type of response\n",
    "df_response['category_5per'] = 0\n",
    "df_response.loc[df_response['cool_warm_perdiff']>5,'category_5per'] = 2\n",
    "df_response.loc[df_response['cool_warm_perdiff']<-5,'category_5per'] = 3\n",
    "df_response.loc[(df_response['fac']<1)|(df_response['fac_warm']<1),'category_5per'] = 1"
   ]
  },
  {
   "cell_type": "code",
   "execution_count": 17,
   "metadata": {},
   "outputs": [],
   "source": [
    "# Sort based on coordinates\n",
    "df_response = df_response.sort_values(by=['lat','lon']).reset_index(drop=True)\n",
    "\n",
    "# Read in metadata, drop missing row, then sort based on coordinates\n",
    "df_meta = pd.read_csv(path_processed+'metadata.csv')\n",
    "df_meta = df_meta.drop(68)\n",
    "df_meta = df_meta.sort_values(by=['lat','lon']).reset_index(drop=True)\n",
    "\n",
    "# Add index to df_response\n",
    "df_response.insert(loc=2,column='idx',value=df_meta.idx)"
   ]
  },
  {
   "cell_type": "code",
   "execution_count": 18,
   "metadata": {},
   "outputs": [],
   "source": [
    "# Export\n",
    "df_response.to_csv(path_processed+'FAC-change_vs_atm.csv',index=False)"
   ]
  },
  {
   "cell_type": "markdown",
   "metadata": {},
   "source": [
    "---------------"
   ]
  },
  {
   "cell_type": "markdown",
   "metadata": {},
   "source": [
    "## 3. Create time to percent change \n",
    "\n",
    "**Input:**\n",
    "- `/scratch/alpine/metm9666/project-2_processed-output-4/smet-DEC.nc`\n",
    "- `/scratch/alpine/metm9666/project-2_processed-output-4/smet-INC.nc`\n",
    "- `/scratch/alpine/metm9666/project-2_processed-output-4/FAC-DEC-smooth.nc`\n",
    "- `/scratch/alpine/metm9666/project-2_processed-output-4/FAC-INC-smooth.nc`\n",
    "\n",
    "**Output:** \n",
    "- `/scratch/alpine/metm9666/project-2_processed-output-4/dec_025pct.csv`\n",
    "- `/scratch/alpine/metm9666/project-2_processed-output-4/inc_025pct.csv`\n",
    "- `/scratch/alpine/metm9666/project-2_processed-output-4/dec_05pct.csv`\n",
    "- `/scratch/alpine/metm9666/project-2_processed-output-4/inc_05pct.csv`\n",
    "- `/scratch/alpine/metm9666/project-2_processed-output-4/dec_10pct.csv`\n",
    "- `/scratch/alpine/metm9666/project-2_processed-output-4/inc_10pct.csv`"
   ]
  },
  {
   "cell_type": "markdown",
   "metadata": {},
   "source": [
    "### 3.1. Read in data"
   ]
  },
  {
   "cell_type": "code",
   "execution_count": 16,
   "metadata": {},
   "outputs": [],
   "source": [
    "# Get data and read in\n",
    "fac_dec = xr.open_dataset(path_processed+'FAC-DEC-smooth.nc')\n",
    "fac_inc = xr.open_dataset(path_processed+'FAC-INC-smooth.nc')\n",
    "ds_dec = xr.open_dataset(path_processed+'smet-DEC.nc')\n",
    "ds_inc = xr.open_dataset(path_processed+'smet-INC.nc')"
   ]
  },
  {
   "cell_type": "code",
   "execution_count": 17,
   "metadata": {},
   "outputs": [],
   "source": [
    "# Find mean for pre-perturbation period\n",
    "fac_mean = fac_dec.sel(time=slice('1980','2079')).mean('time').fac_smooth\n",
    "\n",
    "# Find final smoothed FAC\n",
    "dec_final = fac_dec.isel(time=-1).fac_smooth\n",
    "inc_final = fac_inc.isel(time=-1).fac_smooth"
   ]
  },
  {
   "cell_type": "markdown",
   "metadata": {},
   "source": [
    "### 3.2. Function for calculating elapsed time"
   ]
  },
  {
   "cell_type": "code",
   "execution_count": 18,
   "metadata": {},
   "outputs": [],
   "source": [
    "def time_to_change(ds,pct):\n",
    "    \n",
    "    # Select second half of record and calculate percent change\n",
    "    fac_t2 = ds.sel(time=slice('2080','2180')).fac_smooth\n",
    "    fac_t2['fac_pct_change'] = abs(fac_t2-fac_mean)/fac_mean\n",
    "    \n",
    "    # Create empty arrays for storing data\n",
    "    darrays = []\n",
    "    lats = []\n",
    "    lons = []\n",
    "    dts = []\n",
    "    \n",
    "    # Loop through coordinates and filter for desired percernt change\n",
    "    for lat in range(46):\n",
    "        for lon in range(92):\n",
    "            coord = fac_t2.isel(lat=lat,lon=lon)\n",
    "            darray = coord.fac_pct_change[coord.fac_pct_change>=pct]\n",
    "\n",
    "            # If percent change desired is reached, append values and save time as # of years\n",
    "            if len(darray)>0:\n",
    "                darray_time = darray.isel(time=0).time.drop_vars('time')\n",
    "\n",
    "                lats.append(darray_time.lat.values.flatten()[0])\n",
    "                lons.append(darray_time.lon.values.flatten()[0])\n",
    "                dts.append((darray_time.values.flatten()[0]-pd.to_datetime('2079-12-25T12:00:00'))/np.timedelta64(365,'D'))\n",
    "            \n",
    "            # If percent change desired is not reached but is also not nan, append 9999 filler\n",
    "            elif (str(coord.values[0]) != 'nan'):\n",
    "                lats.append(coord.lat.values.flatten()[0])\n",
    "                lons.append(coord.lon.values.flatten()[0])\n",
    "                dts.append(9999)\n",
    "    \n",
    "    # Create dataframe from values\n",
    "    df = pd.DataFrame({'lat':lats,'lon':lons,'delta_t':dts})\n",
    "    df_2d = df.pivot(index='lat',columns='lon',values='delta_t')\n",
    "    \n",
    "    return df_2d"
   ]
  },
  {
   "cell_type": "markdown",
   "metadata": {},
   "source": [
    "### 3.3. Apply function and export dataframes"
   ]
  },
  {
   "cell_type": "code",
   "execution_count": 23,
   "metadata": {},
   "outputs": [],
   "source": [
    "# Apply function for 2.5, 5.0, and 10.0 %\n",
    "df_dec_025pct = time_to_change(fac_dec,0.025)\n",
    "df_inc_025pct = time_to_change(fac_inc,0.025)\n",
    "df_dec_05pct = time_to_change(fac_dec,0.05)\n",
    "df_inc_05pct = time_to_change(fac_inc,0.05)\n",
    "df_dec_10pct = time_to_change(fac_dec,0.1)\n",
    "df_inc_10pct = time_to_change(fac_inc,0.1)"
   ]
  },
  {
   "cell_type": "code",
   "execution_count": 24,
   "metadata": {},
   "outputs": [],
   "source": [
    "# Export\n",
    "df_dec_025pct.to_csv(path_processed+'dec_025pct.csv')\n",
    "df_inc_025pct.to_csv(path_processed+'inc_025pct.csv')\n",
    "df_dec_05pct.to_csv(path_processed+'dec_05pct.csv')\n",
    "df_inc_05pct.to_csv(path_processed+'inc_05pct.csv')\n",
    "df_dec_10pct.to_csv(path_processed+'dec_10pct.csv')\n",
    "df_inc_10pct.to_csv(path_processed+'inc_10pct.csv')"
   ]
  },
  {
   "cell_type": "markdown",
   "metadata": {},
   "source": [
    "### 3.4. Response time"
   ]
  },
  {
   "cell_type": "code",
   "execution_count": 21,
   "metadata": {},
   "outputs": [],
   "source": [
    "def response_time(ds,pct):\n",
    "    \n",
    "    # Select second half of record and calculate percent change\n",
    "    fac_t2 = ds.sel(time=slice('2080','2180')).fac_smooth\n",
    "    fac_t2['fac_pct_change'] = abs(fac_t2-fac_mean)/fac_t2\n",
    "    \n",
    "    # Create empty arrays for storing data\n",
    "    darrays = []\n",
    "    lats = []\n",
    "    lons = []\n",
    "    dts = []\n",
    "    \n",
    "    # Loop through coordinates and filter for desired percernt change\n",
    "    for lat in range(46):\n",
    "        for lon in range(92):\n",
    "            coord = fac_t2.isel(lat=lat,lon=lon)\n",
    "            darray = coord.fac_pct_change[coord.fac_pct_change>=pct]\n",
    "\n",
    "            # If percent change desired is reached, append values and save time as # of years\n",
    "            if len(darray)>0:\n",
    "                darray_time = darray.isel(time=0).time.drop_vars('time')\n",
    "\n",
    "                lats.append(darray_time.lat.values.flatten()[0])\n",
    "                lons.append(darray_time.lon.values.flatten()[0])\n",
    "                dts.append((darray_time.values.flatten()[0]-pd.to_datetime('2079-12-25T12:00:00'))/np.timedelta64(365,'D'))\n",
    "            \n",
    "            # If percent change desired is not reached but is also not nan, append 9999 filler\n",
    "            elif (str(coord.values[0]) != 'nan'):\n",
    "                lats.append(coord.lat.values.flatten()[0])\n",
    "                lons.append(coord.lon.values.flatten()[0])\n",
    "                dts.append(9999)\n",
    "    \n",
    "    # Create dataframe from values\n",
    "    df = pd.DataFrame({'lat':lats,'lon':lons,'delta_t':dts})\n",
    "    df_2d = df.pivot(index='lat',columns='lon',values='delta_t')\n",
    "    \n",
    "    return df_2d"
   ]
  },
  {
   "cell_type": "code",
   "execution_count": 26,
   "metadata": {},
   "outputs": [],
   "source": [
    "import matplotlib.pyplot as plt"
   ]
  },
  {
   "cell_type": "code",
   "execution_count": 29,
   "metadata": {},
   "outputs": [],
   "source": [
    "df_dec_90pct = time_to_change(fac_dec,0.90)"
   ]
  },
  {
   "cell_type": "code",
   "execution_count": 30,
   "metadata": {},
   "outputs": [],
   "source": [
    "df_inc_90pct = time_to_change(fac_inc,0.90)"
   ]
  },
  {
   "cell_type": "code",
   "execution_count": 31,
   "metadata": {},
   "outputs": [
    {
     "data": {
      "text/plain": [
       "<matplotlib.collections.QuadMesh at 0x1468bc401860>"
      ]
     },
     "execution_count": 31,
     "metadata": {},
     "output_type": "execute_result"
    },
    {
     "data": {
      "image/png": "[encoded data removed]",
      "text/plain": [
       "<Figure size 432x288 with 1 Axes>"
      ]
     },
     "metadata": {
      "needs_background": "light"
     },
     "output_type": "display_data"
    }
   ],
   "source": [
    "plt.pcolormesh(df_dec_90pct.columns.astype('float'),df_dec_90pct.index,df_dec_90pct.values,\n",
    "               vmin=0,vmax=100)"
   ]
  },
  {
   "cell_type": "code",
   "execution_count": 32,
   "metadata": {},
   "outputs": [
    {
     "data": {
      "text/plain": [
       "<matplotlib.collections.QuadMesh at 0x1468bc360f60>"
      ]
     },
     "execution_count": 32,
     "metadata": {},
     "output_type": "execute_result"
    },
    {
     "data": {
      "image/png": "[encoded data removed]",
      "text/plain": [
       "<Figure size 432x288 with 1 Axes>"
      ]
     },
     "metadata": {
      "needs_background": "light"
     },
     "output_type": "display_data"
    }
   ],
   "source": [
    "plt.pcolormesh(df_inc_90pct.columns.astype('float'),df_inc_90pct.index,df_inc_90pct.values,\n",
    "               vmin=0,vmax=100)"
   ]
  },
  {
   "cell_type": "code",
   "execution_count": null,
   "metadata": {},
   "outputs": [],
   "source": []
  }
 ],
 "metadata": {
  "kernelspec": {
   "display_name": "snowpack",
   "language": "python",
   "name": "snowpack"
  },
  "language_info": {
   "codemirror_mode": {
    "name": "ipython",
    "version": 3
   },
   "file_extension": ".py",
   "mimetype": "text/x-python",
   "name": "python",
   "nbconvert_exporter": "python",
   "pygments_lexer": "ipython3",
   "version": "3.6.8"
  }
 },
 "nbformat": 4,
 "nbformat_minor": 4
}
